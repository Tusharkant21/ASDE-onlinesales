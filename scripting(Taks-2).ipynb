{
 "cells": [
  {
   "cell_type": "code",
   "execution_count": null,
   "id": "3819d36d",
   "metadata": {},
   "outputs": [],
   "source": [
    "# With the same attachment, use each worksheet as a CSV file and write a script (Bash or Python) \n",
    "# that generates the same report. Data is to be read from the CSV files not from a database."
   ]
  },
  {
   "cell_type": "code",
   "execution_count": 11,
   "id": "d1efc95e",
   "metadata": {},
   "outputs": [],
   "source": [
    "import pandas as pd"
   ]
  },
  {
   "cell_type": "code",
   "execution_count": 12,
   "id": "e8f048d2",
   "metadata": {},
   "outputs": [],
   "source": [
    "# importing CSV files of  the Departments, Employees, and Salaries data from CSV files for reading Data"
   ]
  },
  {
   "cell_type": "code",
   "execution_count": 13,
   "id": "9be9e66d",
   "metadata": {},
   "outputs": [],
   "source": [
    "departments = pd.read_csv(\"C:/Users/dell/Downloads/Departments.csv\")"
   ]
  },
  {
   "cell_type": "code",
   "execution_count": 14,
   "id": "1b477d7e",
   "metadata": {},
   "outputs": [],
   "source": [
    "employees = pd.read_csv(\"C:/Users/dell/Downloads/Employees.csv\")"
   ]
  },
  {
   "cell_type": "code",
   "execution_count": 18,
   "id": "4edfa357",
   "metadata": {},
   "outputs": [],
   "source": [
    "salaries = pd.read_csv(\"C:/Users/dell/Downloads/Salaries.csv\")"
   ]
  },
  {
   "cell_type": "code",
   "execution_count": 22,
   "id": "4a3fcec5",
   "metadata": {},
   "outputs": [],
   "source": [
    "df = pd.merge(departments,employees, left_on='ID',right_on='DEPT ID')"
   ]
  },
  {
   "cell_type": "code",
   "execution_count": 27,
   "id": "d153f2f4",
   "metadata": {},
   "outputs": [],
   "source": [
    "data_table= pd.merge(df,salaries,left_on=\"ID_y\",right_on='EMP_ID')"
   ]
  },
  {
   "cell_type": "code",
   "execution_count": 31,
   "id": "c7853c62",
   "metadata": {},
   "outputs": [
    {
     "data": {
      "text/html": [
       "<div>\n",
       "<style scoped>\n",
       "    .dataframe tbody tr th:only-of-type {\n",
       "        vertical-align: middle;\n",
       "    }\n",
       "\n",
       "    .dataframe tbody tr th {\n",
       "        vertical-align: top;\n",
       "    }\n",
       "\n",
       "    .dataframe thead th {\n",
       "        text-align: right;\n",
       "    }\n",
       "</style>\n",
       "<table border=\"1\" class=\"dataframe\">\n",
       "  <thead>\n",
       "    <tr style=\"text-align: right;\">\n",
       "      <th></th>\n",
       "      <th>ID_x</th>\n",
       "      <th>NAME_x</th>\n",
       "      <th>ID_y</th>\n",
       "      <th>NAME_y</th>\n",
       "      <th>DEPT ID</th>\n",
       "      <th>EMP_ID</th>\n",
       "      <th>MONTH (YYYYMM)</th>\n",
       "      <th>AMT (USD)</th>\n",
       "    </tr>\n",
       "  </thead>\n",
       "  <tbody>\n",
       "    <tr>\n",
       "      <th>0</th>\n",
       "      <td>1</td>\n",
       "      <td>HR</td>\n",
       "      <td>1</td>\n",
       "      <td>Jack</td>\n",
       "      <td>1</td>\n",
       "      <td>1</td>\n",
       "      <td>202207</td>\n",
       "      <td>5000</td>\n",
       "    </tr>\n",
       "    <tr>\n",
       "      <th>1</th>\n",
       "      <td>1</td>\n",
       "      <td>HR</td>\n",
       "      <td>1</td>\n",
       "      <td>Jack</td>\n",
       "      <td>1</td>\n",
       "      <td>1</td>\n",
       "      <td>202208</td>\n",
       "      <td>5000</td>\n",
       "    </tr>\n",
       "    <tr>\n",
       "      <th>2</th>\n",
       "      <td>1</td>\n",
       "      <td>HR</td>\n",
       "      <td>2</td>\n",
       "      <td>John</td>\n",
       "      <td>1</td>\n",
       "      <td>2</td>\n",
       "      <td>202207</td>\n",
       "      <td>4000</td>\n",
       "    </tr>\n",
       "    <tr>\n",
       "      <th>3</th>\n",
       "      <td>1</td>\n",
       "      <td>HR</td>\n",
       "      <td>2</td>\n",
       "      <td>John</td>\n",
       "      <td>1</td>\n",
       "      <td>2</td>\n",
       "      <td>202208</td>\n",
       "      <td>4000</td>\n",
       "    </tr>\n",
       "    <tr>\n",
       "      <th>4</th>\n",
       "      <td>1</td>\n",
       "      <td>HR</td>\n",
       "      <td>10</td>\n",
       "      <td>Shirley</td>\n",
       "      <td>1</td>\n",
       "      <td>10</td>\n",
       "      <td>202207</td>\n",
       "      <td>4800</td>\n",
       "    </tr>\n",
       "    <tr>\n",
       "      <th>...</th>\n",
       "      <td>...</td>\n",
       "      <td>...</td>\n",
       "      <td>...</td>\n",
       "      <td>...</td>\n",
       "      <td>...</td>\n",
       "      <td>...</td>\n",
       "      <td>...</td>\n",
       "      <td>...</td>\n",
       "    </tr>\n",
       "    <tr>\n",
       "      <th>166</th>\n",
       "      <td>5</td>\n",
       "      <td>Sales</td>\n",
       "      <td>16</td>\n",
       "      <td>Howard</td>\n",
       "      <td>5</td>\n",
       "      <td>16</td>\n",
       "      <td>202305</td>\n",
       "      <td>7500</td>\n",
       "    </tr>\n",
       "    <tr>\n",
       "      <th>167</th>\n",
       "      <td>5</td>\n",
       "      <td>Sales</td>\n",
       "      <td>16</td>\n",
       "      <td>Howard</td>\n",
       "      <td>5</td>\n",
       "      <td>16</td>\n",
       "      <td>202306</td>\n",
       "      <td>7500</td>\n",
       "    </tr>\n",
       "    <tr>\n",
       "      <th>168</th>\n",
       "      <td>5</td>\n",
       "      <td>Sales</td>\n",
       "      <td>21</td>\n",
       "      <td>Bruce</td>\n",
       "      <td>5</td>\n",
       "      <td>21</td>\n",
       "      <td>202304</td>\n",
       "      <td>4800</td>\n",
       "    </tr>\n",
       "    <tr>\n",
       "      <th>169</th>\n",
       "      <td>5</td>\n",
       "      <td>Sales</td>\n",
       "      <td>21</td>\n",
       "      <td>Bruce</td>\n",
       "      <td>5</td>\n",
       "      <td>21</td>\n",
       "      <td>202305</td>\n",
       "      <td>4800</td>\n",
       "    </tr>\n",
       "    <tr>\n",
       "      <th>170</th>\n",
       "      <td>5</td>\n",
       "      <td>Sales</td>\n",
       "      <td>21</td>\n",
       "      <td>Bruce</td>\n",
       "      <td>5</td>\n",
       "      <td>21</td>\n",
       "      <td>202306</td>\n",
       "      <td>4800</td>\n",
       "    </tr>\n",
       "  </tbody>\n",
       "</table>\n",
       "<p>171 rows × 8 columns</p>\n",
       "</div>"
      ],
      "text/plain": [
       "     ID_x NAME_x  ID_y   NAME_y  DEPT ID  EMP_ID  MONTH (YYYYMM)  AMT (USD)\n",
       "0       1     HR     1     Jack        1       1          202207       5000\n",
       "1       1     HR     1     Jack        1       1          202208       5000\n",
       "2       1     HR     2     John        1       2          202207       4000\n",
       "3       1     HR     2     John        1       2          202208       4000\n",
       "4       1     HR    10  Shirley        1      10          202207       4800\n",
       "..    ...    ...   ...      ...      ...     ...             ...        ...\n",
       "166     5  Sales    16   Howard        5      16          202305       7500\n",
       "167     5  Sales    16   Howard        5      16          202306       7500\n",
       "168     5  Sales    21    Bruce        5      21          202304       4800\n",
       "169     5  Sales    21    Bruce        5      21          202305       4800\n",
       "170     5  Sales    21    Bruce        5      21          202306       4800\n",
       "\n",
       "[171 rows x 8 columns]"
      ]
     },
     "execution_count": 31,
     "metadata": {},
     "output_type": "execute_result"
    }
   ],
   "source": [
    "data_table"
   ]
  },
  {
   "cell_type": "code",
   "execution_count": 32,
   "id": "4ed67272",
   "metadata": {},
   "outputs": [],
   "source": [
    "ans=data.groupby(['NAME_x'])['AMT (USD)'].mean()"
   ]
  },
  {
   "cell_type": "code",
   "execution_count": 33,
   "id": "fce5b811",
   "metadata": {},
   "outputs": [
    {
     "data": {
      "text/plain": [
       "NAME_x\n",
       "Sales      7045.16129\n",
       "Ops        6420.00000\n",
       "Finance    6360.31746\n",
       "Name: AMT (USD), dtype: float64"
      ]
     },
     "execution_count": 33,
     "metadata": {},
     "output_type": "execute_result"
    }
   ],
   "source": [
    "ans.sort_values(ascending=False).head(3)"
   ]
  }
 ],
 "metadata": {
  "kernelspec": {
   "display_name": "Python 3 (ipykernel)",
   "language": "python",
   "name": "python3"
  },
  "language_info": {
   "codemirror_mode": {
    "name": "ipython",
    "version": 3
   },
   "file_extension": ".py",
   "mimetype": "text/x-python",
   "name": "python",
   "nbconvert_exporter": "python",
   "pygments_lexer": "ipython3",
   "version": "3.11.2"
  }
 },
 "nbformat": 4,
 "nbformat_minor": 5
}
